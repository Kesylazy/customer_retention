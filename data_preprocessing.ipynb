{
 "cells": [
  {
   "cell_type": "code",
   "execution_count": 1,
   "id": "60b9cdf8-2be5-40d4-a061-21841b5ef867",
   "metadata": {},
   "outputs": [],
   "source": [
    "import pandas as pd"
   ]
  },
  {
   "cell_type": "code",
   "execution_count": 2,
   "id": "2ee5ff38-17f6-4b7d-9b25-dec63723126c",
   "metadata": {},
   "outputs": [],
   "source": [
    "df_train = pd.read_csv('train.csv')\n",
    "df_test = pd.read_csv('test.csv')\n",
    "df = pd.concat([df_train, df_test])\n",
    "df.drop('id', axis=1, inplace=True)\n",
    "df.index = list(range(5000))"
   ]
  },
  {
   "cell_type": "code",
   "execution_count": 3,
   "id": "4ad5ac71-8b1e-4e47-8b6a-980dbbce3613",
   "metadata": {},
   "outputs": [],
   "source": [
    "binary_mapping = {\n",
    "    'no': 0,\n",
    "    'yes': 1\n",
    "}\n",
    "columns_to_map = ['international_plan', 'voice_mail_plan', 'churn']"
   ]
  },
  {
   "cell_type": "code",
   "execution_count": 4,
   "id": "783ce9a1-60e8-42b9-9833-af6b1759a380",
   "metadata": {},
   "outputs": [],
   "source": [
    "for column in columns_to_map:\n",
    "    df[column] = df[column].map(binary_mapping)"
   ]
  },
  {
   "cell_type": "code",
   "execution_count": 5,
   "id": "c8d1f7b7-011a-4992-bafc-9204f2a7d880",
   "metadata": {},
   "outputs": [],
   "source": [
    "df = pd.get_dummies(df).astype(float)"
   ]
  },
  {
   "cell_type": "code",
   "execution_count": 6,
   "id": "18a99f35-f1ff-4ce3-b02c-55bb735efeb8",
   "metadata": {},
   "outputs": [
    {
     "name": "stderr",
     "output_type": "stream",
     "text": [
      "C:\\Users\\kevin\\AppData\\Local\\Temp\\ipykernel_21416\\3688291000.py:3: SettingWithCopyWarning: \n",
      "A value is trying to be set on a copy of a slice from a DataFrame\n",
      "\n",
      "See the caveats in the documentation: https://pandas.pydata.org/pandas-docs/stable/user_guide/indexing.html#returning-a-view-versus-a-copy\n",
      "  df_test.drop('churn', axis=1, inplace=True)\n"
     ]
    }
   ],
   "source": [
    "df_train = df.loc[:4249]\n",
    "df_test = df.loc[4250:]\n",
    "df_test.drop('churn', axis=1, inplace=True)"
   ]
  },
  {
   "cell_type": "code",
   "execution_count": 7,
   "id": "ea786223-1ff9-4d6d-abf2-261c2193048b",
   "metadata": {},
   "outputs": [],
   "source": [
    "df_train.to_csv('train_upd.csv', index=False)\n",
    "df_test.to_csv('test_upd.csv', index=False)"
   ]
  }
 ],
 "metadata": {
  "kernelspec": {
   "display_name": "Python 3 (ipykernel)",
   "language": "python",
   "name": "python3"
  },
  "language_info": {
   "codemirror_mode": {
    "name": "ipython",
    "version": 3
   },
   "file_extension": ".py",
   "mimetype": "text/x-python",
   "name": "python",
   "nbconvert_exporter": "python",
   "pygments_lexer": "ipython3",
   "version": "3.12.8"
  }
 },
 "nbformat": 4,
 "nbformat_minor": 5
}
